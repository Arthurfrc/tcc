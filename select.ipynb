{
 "cells": [
  {
   "cell_type": "code",
   "execution_count": 1,
   "metadata": {},
   "outputs": [],
   "source": [
    "import pandas as pd"
   ]
  },
  {
   "cell_type": "code",
   "execution_count": 2,
   "metadata": {},
   "outputs": [],
   "source": [
    "# Caminho para o seu arquivo CSV\n",
    "caminho_arquivo = 'projeto-busca-carros/dados_corrigidos_sem_duplicatas.csv'"
   ]
  },
  {
   "cell_type": "code",
   "execution_count": 5,
   "metadata": {},
   "outputs": [],
   "source": [
    "# Nome da coluna onde a alteração será feita\n",
    "# !! ATENÇÃO !! Substitua 'Nome_da_Coluna_Para_Alterar' pelo nome real da coluna\n",
    "nome_da_coluna_para_alterar = 'Selo CONPET de Eficiência Energética'\n"
   ]
  },
  {
   "cell_type": "code",
   "execution_count": 45,
   "metadata": {},
   "outputs": [
    {
     "ename": "UnicodeDecodeError",
     "evalue": "'utf-8' codec can't decode byte 0xc3 in position 915: invalid continuation byte",
     "output_type": "error",
     "traceback": [
      "\u001b[31m---------------------------------------------------------------------------\u001b[39m",
      "\u001b[31mUnicodeDecodeError\u001b[39m                        Traceback (most recent call last)",
      "\u001b[36mCell\u001b[39m\u001b[36m \u001b[39m\u001b[32mIn[45]\u001b[39m\u001b[32m, line 5\u001b[39m\n\u001b[32m      1\u001b[39m \u001b[38;5;66;03m# Criar lista de tuplas para substituir valores\u001b[39;00m\n\u001b[32m      2\u001b[39m substituicoes = [\n\u001b[32m      3\u001b[39m     (\u001b[33m'\u001b[39m\u001b[33mN�O\u001b[39m\u001b[33m'\u001b[39m, \u001b[33m'\u001b[39m\u001b[33mNÃO\u001b[39m\u001b[33m'\u001b[39m)\n\u001b[32m      4\u001b[39m ]\n\u001b[32m----> \u001b[39m\u001b[32m5\u001b[39m df = \u001b[43mpd\u001b[49m\u001b[43m.\u001b[49m\u001b[43mread_csv\u001b[49m\u001b[43m(\u001b[49m\u001b[43mcaminho_arquivo\u001b[49m\u001b[43m,\u001b[49m\u001b[43m \u001b[49m\u001b[43mdelimiter\u001b[49m\u001b[43m=\u001b[49m\u001b[33;43m'\u001b[39;49m\u001b[33;43m;\u001b[39;49m\u001b[33;43m'\u001b[39;49m\u001b[43m)\u001b[49m\n\u001b[32m      6\u001b[39m \u001b[38;5;66;03m# df[nome_da_coluna_para_alterar] = df[nome_da_coluna_para_alterar].str.upper()\u001b[39;00m\n\u001b[32m      7\u001b[39m \u001b[38;5;66;03m# df.to_csv(caminho_arquivo, index=False, sep=';')\u001b[39;00m\n\u001b[32m      8\u001b[39m \n\u001b[32m      9\u001b[39m \u001b[38;5;66;03m# Trocar valores das tuplas definidas na variável 'substituicoes' acima\u001b[39;00m\n\u001b[32m     10\u001b[39m \u001b[38;5;28;01mfor\u001b[39;00m valor_antigo, valor_novo \u001b[38;5;129;01min\u001b[39;00m substituicoes:\n",
      "\u001b[36mFile \u001b[39m\u001b[32m~\\AppData\\Local\\Packages\\PythonSoftwareFoundation.Python.3.13_qbz5n2kfra8p0\\LocalCache\\local-packages\\Python313\\site-packages\\pandas\\io\\parsers\\readers.py:1026\u001b[39m, in \u001b[36mread_csv\u001b[39m\u001b[34m(filepath_or_buffer, sep, delimiter, header, names, index_col, usecols, dtype, engine, converters, true_values, false_values, skipinitialspace, skiprows, skipfooter, nrows, na_values, keep_default_na, na_filter, verbose, skip_blank_lines, parse_dates, infer_datetime_format, keep_date_col, date_parser, date_format, dayfirst, cache_dates, iterator, chunksize, compression, thousands, decimal, lineterminator, quotechar, quoting, doublequote, escapechar, comment, encoding, encoding_errors, dialect, on_bad_lines, delim_whitespace, low_memory, memory_map, float_precision, storage_options, dtype_backend)\u001b[39m\n\u001b[32m   1013\u001b[39m kwds_defaults = _refine_defaults_read(\n\u001b[32m   1014\u001b[39m     dialect,\n\u001b[32m   1015\u001b[39m     delimiter,\n\u001b[32m   (...)\u001b[39m\u001b[32m   1022\u001b[39m     dtype_backend=dtype_backend,\n\u001b[32m   1023\u001b[39m )\n\u001b[32m   1024\u001b[39m kwds.update(kwds_defaults)\n\u001b[32m-> \u001b[39m\u001b[32m1026\u001b[39m \u001b[38;5;28;01mreturn\u001b[39;00m \u001b[43m_read\u001b[49m\u001b[43m(\u001b[49m\u001b[43mfilepath_or_buffer\u001b[49m\u001b[43m,\u001b[49m\u001b[43m \u001b[49m\u001b[43mkwds\u001b[49m\u001b[43m)\u001b[49m\n",
      "\u001b[36mFile \u001b[39m\u001b[32m~\\AppData\\Local\\Packages\\PythonSoftwareFoundation.Python.3.13_qbz5n2kfra8p0\\LocalCache\\local-packages\\Python313\\site-packages\\pandas\\io\\parsers\\readers.py:620\u001b[39m, in \u001b[36m_read\u001b[39m\u001b[34m(filepath_or_buffer, kwds)\u001b[39m\n\u001b[32m    617\u001b[39m _validate_names(kwds.get(\u001b[33m\"\u001b[39m\u001b[33mnames\u001b[39m\u001b[33m\"\u001b[39m, \u001b[38;5;28;01mNone\u001b[39;00m))\n\u001b[32m    619\u001b[39m \u001b[38;5;66;03m# Create the parser.\u001b[39;00m\n\u001b[32m--> \u001b[39m\u001b[32m620\u001b[39m parser = \u001b[43mTextFileReader\u001b[49m\u001b[43m(\u001b[49m\u001b[43mfilepath_or_buffer\u001b[49m\u001b[43m,\u001b[49m\u001b[43m \u001b[49m\u001b[43m*\u001b[49m\u001b[43m*\u001b[49m\u001b[43mkwds\u001b[49m\u001b[43m)\u001b[49m\n\u001b[32m    622\u001b[39m \u001b[38;5;28;01mif\u001b[39;00m chunksize \u001b[38;5;129;01mor\u001b[39;00m iterator:\n\u001b[32m    623\u001b[39m     \u001b[38;5;28;01mreturn\u001b[39;00m parser\n",
      "\u001b[36mFile \u001b[39m\u001b[32m~\\AppData\\Local\\Packages\\PythonSoftwareFoundation.Python.3.13_qbz5n2kfra8p0\\LocalCache\\local-packages\\Python313\\site-packages\\pandas\\io\\parsers\\readers.py:1620\u001b[39m, in \u001b[36mTextFileReader.__init__\u001b[39m\u001b[34m(self, f, engine, **kwds)\u001b[39m\n\u001b[32m   1617\u001b[39m     \u001b[38;5;28mself\u001b[39m.options[\u001b[33m\"\u001b[39m\u001b[33mhas_index_names\u001b[39m\u001b[33m\"\u001b[39m] = kwds[\u001b[33m\"\u001b[39m\u001b[33mhas_index_names\u001b[39m\u001b[33m\"\u001b[39m]\n\u001b[32m   1619\u001b[39m \u001b[38;5;28mself\u001b[39m.handles: IOHandles | \u001b[38;5;28;01mNone\u001b[39;00m = \u001b[38;5;28;01mNone\u001b[39;00m\n\u001b[32m-> \u001b[39m\u001b[32m1620\u001b[39m \u001b[38;5;28mself\u001b[39m._engine = \u001b[38;5;28;43mself\u001b[39;49m\u001b[43m.\u001b[49m\u001b[43m_make_engine\u001b[49m\u001b[43m(\u001b[49m\u001b[43mf\u001b[49m\u001b[43m,\u001b[49m\u001b[43m \u001b[49m\u001b[38;5;28;43mself\u001b[39;49m\u001b[43m.\u001b[49m\u001b[43mengine\u001b[49m\u001b[43m)\u001b[49m\n",
      "\u001b[36mFile \u001b[39m\u001b[32m~\\AppData\\Local\\Packages\\PythonSoftwareFoundation.Python.3.13_qbz5n2kfra8p0\\LocalCache\\local-packages\\Python313\\site-packages\\pandas\\io\\parsers\\readers.py:1898\u001b[39m, in \u001b[36mTextFileReader._make_engine\u001b[39m\u001b[34m(self, f, engine)\u001b[39m\n\u001b[32m   1895\u001b[39m     \u001b[38;5;28;01mraise\u001b[39;00m \u001b[38;5;167;01mValueError\u001b[39;00m(msg)\n\u001b[32m   1897\u001b[39m \u001b[38;5;28;01mtry\u001b[39;00m:\n\u001b[32m-> \u001b[39m\u001b[32m1898\u001b[39m     \u001b[38;5;28;01mreturn\u001b[39;00m \u001b[43mmapping\u001b[49m\u001b[43m[\u001b[49m\u001b[43mengine\u001b[49m\u001b[43m]\u001b[49m\u001b[43m(\u001b[49m\u001b[43mf\u001b[49m\u001b[43m,\u001b[49m\u001b[43m \u001b[49m\u001b[43m*\u001b[49m\u001b[43m*\u001b[49m\u001b[38;5;28;43mself\u001b[39;49m\u001b[43m.\u001b[49m\u001b[43moptions\u001b[49m\u001b[43m)\u001b[49m\n\u001b[32m   1899\u001b[39m \u001b[38;5;28;01mexcept\u001b[39;00m \u001b[38;5;167;01mException\u001b[39;00m:\n\u001b[32m   1900\u001b[39m     \u001b[38;5;28;01mif\u001b[39;00m \u001b[38;5;28mself\u001b[39m.handles \u001b[38;5;129;01mis\u001b[39;00m \u001b[38;5;129;01mnot\u001b[39;00m \u001b[38;5;28;01mNone\u001b[39;00m:\n",
      "\u001b[36mFile \u001b[39m\u001b[32m~\\AppData\\Local\\Packages\\PythonSoftwareFoundation.Python.3.13_qbz5n2kfra8p0\\LocalCache\\local-packages\\Python313\\site-packages\\pandas\\io\\parsers\\c_parser_wrapper.py:93\u001b[39m, in \u001b[36mCParserWrapper.__init__\u001b[39m\u001b[34m(self, src, **kwds)\u001b[39m\n\u001b[32m     90\u001b[39m \u001b[38;5;28;01mif\u001b[39;00m kwds[\u001b[33m\"\u001b[39m\u001b[33mdtype_backend\u001b[39m\u001b[33m\"\u001b[39m] == \u001b[33m\"\u001b[39m\u001b[33mpyarrow\u001b[39m\u001b[33m\"\u001b[39m:\n\u001b[32m     91\u001b[39m     \u001b[38;5;66;03m# Fail here loudly instead of in cython after reading\u001b[39;00m\n\u001b[32m     92\u001b[39m     import_optional_dependency(\u001b[33m\"\u001b[39m\u001b[33mpyarrow\u001b[39m\u001b[33m\"\u001b[39m)\n\u001b[32m---> \u001b[39m\u001b[32m93\u001b[39m \u001b[38;5;28mself\u001b[39m._reader = \u001b[43mparsers\u001b[49m\u001b[43m.\u001b[49m\u001b[43mTextReader\u001b[49m\u001b[43m(\u001b[49m\u001b[43msrc\u001b[49m\u001b[43m,\u001b[49m\u001b[43m \u001b[49m\u001b[43m*\u001b[49m\u001b[43m*\u001b[49m\u001b[43mkwds\u001b[49m\u001b[43m)\u001b[49m\n\u001b[32m     95\u001b[39m \u001b[38;5;28mself\u001b[39m.unnamed_cols = \u001b[38;5;28mself\u001b[39m._reader.unnamed_cols\n\u001b[32m     97\u001b[39m \u001b[38;5;66;03m# error: Cannot determine type of 'names'\u001b[39;00m\n",
      "\u001b[36mFile \u001b[39m\u001b[32mparsers.pyx:574\u001b[39m, in \u001b[36mpandas._libs.parsers.TextReader.__cinit__\u001b[39m\u001b[34m()\u001b[39m\n",
      "\u001b[36mFile \u001b[39m\u001b[32mparsers.pyx:663\u001b[39m, in \u001b[36mpandas._libs.parsers.TextReader._get_header\u001b[39m\u001b[34m()\u001b[39m\n",
      "\u001b[36mFile \u001b[39m\u001b[32mparsers.pyx:874\u001b[39m, in \u001b[36mpandas._libs.parsers.TextReader._tokenize_rows\u001b[39m\u001b[34m()\u001b[39m\n",
      "\u001b[36mFile \u001b[39m\u001b[32mparsers.pyx:891\u001b[39m, in \u001b[36mpandas._libs.parsers.TextReader._check_tokenize_status\u001b[39m\u001b[34m()\u001b[39m\n",
      "\u001b[36mFile \u001b[39m\u001b[32mparsers.pyx:2053\u001b[39m, in \u001b[36mpandas._libs.parsers.raise_parser_error\u001b[39m\u001b[34m()\u001b[39m\n",
      "\u001b[36mFile \u001b[39m\u001b[32m<frozen codecs>:325\u001b[39m, in \u001b[36mdecode\u001b[39m\u001b[34m(self, input, final)\u001b[39m\n",
      "\u001b[31mUnicodeDecodeError\u001b[39m: 'utf-8' codec can't decode byte 0xc3 in position 915: invalid continuation byte"
     ]
    }
   ],
   "source": [
    "# Criar lista de tuplas para substituir valores\n",
    "substituicoes = [\n",
    "    ('N�O', 'NÃO')\n",
    "]\n",
    "df = pd.read_csv(caminho_arquivo, delimiter=';')\n",
    "# df[nome_da_coluna_para_alterar] = df[nome_da_coluna_para_alterar].str.upper()\n",
    "# df.to_csv(caminho_arquivo, index=False, sep=';')\n",
    "\n",
    "# Trocar valores das tuplas definidas na variável 'substituicoes' acima\n",
    "for valor_antigo, valor_novo in substituicoes:\n",
    "    df[nome_da_coluna_para_alterar] = df[nome_da_coluna_para_alterar].replace(valor_antigo, valor_novo)\n",
    "\n",
    "#Salvar as alterações do arquivo\n",
    "df.to_csv(caminho_arquivo, index=False, sep=';')"
   ]
  },
  {
   "cell_type": "code",
   "execution_count": 24,
   "metadata": {},
   "outputs": [
    {
     "name": "stdout",
     "output_type": "stream",
     "text": [
      "Ocorreu um erro: name 'nome_da_coluna_para_alterar' is not defined\n"
     ]
    }
   ],
   "source": [
    "try:\n",
    "    # Carregar o arquivo CSV para um DataFrame do pandas\n",
    "    df = pd.read_csv(caminho_arquivo, delimiter=';')\n",
    "\n",
    "    # Verificar se a coluna existe\n",
    "    if nome_da_coluna_para_alterar in df.columns:\n",
    "        # Contar quantas ocorrências do valor antigo existem antes da alteração\n",
    "        contagem_antes = df[nome_da_coluna_para_alterar].astype(str).str.count(valor_antigo).sum()\n",
    "\n",
    "        # Realizar a substituição na coluna especificada\n",
    "        # O inplace=True modifica o DataFrame diretamente\n",
    "        df[nome_da_coluna_para_alterar] = df[nome_da_coluna_para_alterar].replace(valor_antigo, novo_valor)\n",
    "\n",
    "        # Contar quantas ocorrências do novo valor existem depois da alteração\n",
    "        contagem_depois = df[nome_da_coluna_para_alterar].astype(str).str.count(novo_valor).sum()\n",
    "\n",
    "        print(f\"Substituição concluída na coluna '{nome_da_coluna_para_alterar}'.\")\n",
    "        print(f\"Ocorrências de '{valor_antigo}' encontradas e substituídas: {contagem_antes}\")\n",
    "        print(f\"Ocorrências de '{novo_valor}' após a substituição: {contagem_depois}\")\n",
    "\n",
    "        # --- Opção para visualizar as primeiras linhas do DataFrame modificado ---\n",
    "        print(\"\\nPrimeiras 5 linhas do DataFrame modificado:\")\n",
    "        print(df.head().to_markdown(index=False)) # Use to_markdown() para melhor visualização em notebooks\n",
    "\n",
    "        # --- Opção para salvar o DataFrame modificado em um novo arquivo CSV ---\n",
    "        # Para salvar, remova o comentário da linha abaixo\n",
    "        df.to_csv(caminho_arquivo, index=False, sep=';')\n",
    "        print(f\"\\nDataFrame modificado salvo em '{caminho_arquivo}'\")\n",
    "\n",
    "    else:\n",
    "        print(f\"Erro: A coluna '{nome_da_coluna_para_alterar}' não foi encontrada no arquivo.\")\n",
    "        print(\"Colunas disponíveis:\")\n",
    "        print(df.columns.tolist())\n",
    "\n",
    "except FileNotFoundError:\n",
    "    print(f\"Erro: O arquivo '{caminho_arquivo}' não foi encontrado.\")\n",
    "except Exception as e:\n",
    "    print(f\"Ocorreu um erro: {e}\")"
   ]
  },
  {
   "cell_type": "code",
   "execution_count": 5,
   "metadata": {},
   "outputs": [],
   "source": [
    "# Nome da coluna que você quer verificar\n",
    "# !! ATENÇÃO !! Substitua 'Nome_da_Coluna' pelo nome real da coluna que você deseja inspecionar\n",
    "# nome_da_coluna = 'Poluentes(NMOG+NOx [mg/km])'\n",
    "# nome_da_coluna = 'Poluentes(NMOG+NOx [mg/km])'\n",
    "# nome_da_coluna = 'Poluentes(CO [mg/km])'\n",
    "# nome_da_coluna = 'Poluentes(CHO [mg/km])'\n",
    "# nome_da_coluna = 'Redução Relativa ao Limite'\n",
    "# nome_da_coluna = 'Gás Efeito Estufa (Etanol [CO2 fóssil] [g/km])'\n",
    "# nome_da_coluna = 'Gás Efeito Estufa (Gasolina ou Diesel [CO2 fóssil] [g/km])'\n",
    "# nome_da_coluna = 'Gás Efeito Estufa (VEHP [CO2 fóssil] [g/km])'\n",
    "# nome_da_coluna = 'Km - (Etanol[Cidade][km/l])'\n",
    "# nome_da_coluna = 'Km - (Etanol[Estrada][km/l])'\n",
    "# nome_da_coluna = 'Km - (Gasolina ou Diesel[Cidade][km/l])'\n",
    "# nome_da_coluna = 'Km - (Gasolina ou Diesel[Estrada][km/l])'\n",
    "# nome_da_coluna = 'Km - (Elétrico quando VE ou VEHP [Cidade][km/le])'\n",
    "# nome_da_coluna = 'Km - (Elétrico quando VE ou VEHP [Estrada][km/le])'\n",
    "# nome_da_coluna = 'Consumo Energético'\n",
    "# nome_da_coluna = 'Autonomia modo Elétrico'\n",
    "# nome_da_coluna = 'Classificação PBE (Comparação Relativa)'\n",
    "# nome_da_coluna = 'Classificação PBE (Absoluta na Categoria)'\n",
    "nome_da_coluna = 'Selo CONPET de Eficiência Energética'"
   ]
  },
  {
   "cell_type": "code",
   "execution_count": 6,
   "metadata": {},
   "outputs": [
    {
     "name": "stdout",
     "output_type": "stream",
     "text": [
      "Opções na coluna 'Selo CONPET de Eficiência Energética':\n",
      "NÃO\n",
      "SIM\n"
     ]
    }
   ],
   "source": [
    "try:\n",
    "    # Carregar o arquivo CSV para um DataFrame do pandas\n",
    "    df = pd.read_csv(caminho_arquivo, delimiter=';')\n",
    "\n",
    "    # Verificar se a coluna existe no DataFrame\n",
    "    if nome_da_coluna in df.columns:\n",
    "        # Obter os valores únicos da coluna\n",
    "        valores_unicos = df[nome_da_coluna].unique()\n",
    "\n",
    "        # Exibir os valores únicos\n",
    "        print(f\"Opções na coluna '{nome_da_coluna}':\")\n",
    "        for valor in valores_unicos:\n",
    "            print(valor)\n",
    "    else:\n",
    "        print(f\"Erro: A coluna '{nome_da_coluna}' não foi encontrada no arquivo.\")\n",
    "        print(\"Colunas disponíveis:\")\n",
    "        print(df.columns.tolist())\n",
    "\n",
    "except FileNotFoundError:\n",
    "    print(f\"Erro: O arquivo '{caminho_arquivo}' não foi encontrado.\")\n",
    "except Exception as e:\n",
    "    print(f\"Ocorreu um erro ao ler o arquivo: {e}\")"
   ]
  },
  {
   "cell_type": "code",
   "execution_count": null,
   "metadata": {},
   "outputs": [],
   "source": []
  }
 ],
 "metadata": {
  "kernelspec": {
   "display_name": "Python 3",
   "language": "python",
   "name": "python3"
  },
  "language_info": {
   "codemirror_mode": {
    "name": "ipython",
    "version": 3
   },
   "file_extension": ".py",
   "mimetype": "text/x-python",
   "name": "python",
   "nbconvert_exporter": "python",
   "pygments_lexer": "ipython3",
   "version": "3.11.2"
  }
 },
 "nbformat": 4,
 "nbformat_minor": 2
}
