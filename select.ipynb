{
 "cells": [
  {
   "cell_type": "code",
   "execution_count": 3,
   "metadata": {},
   "outputs": [],
   "source": [
    "import pandas as pd"
   ]
  },
  {
   "cell_type": "code",
   "execution_count": 6,
   "metadata": {},
   "outputs": [],
   "source": [
    "# Caminho para o seu arquivo CSV\n",
    "caminho_arquivo = 'projeto-busca-carros/dados_corrigidos_sem_duplicatas.csv'"
   ]
  },
  {
   "cell_type": "code",
   "execution_count": 77,
   "metadata": {},
   "outputs": [],
   "source": [
    "# Nome da coluna onde a alteração será feita\n",
    "# !! ATENÇÃO !! Substitua 'Nome_da_Coluna_Para_Alterar' pelo nome real da coluna\n",
    "nome_da_coluna_para_alterar = 'Marca'\n"
   ]
  },
  {
   "cell_type": "code",
   "execution_count": 23,
   "metadata": {},
   "outputs": [
    {
     "ename": "NameError",
     "evalue": "name 'nome_da_coluna_para_alterar' is not defined",
     "output_type": "error",
     "traceback": [
      "\u001b[31m---------------------------------------------------------------------------\u001b[39m",
      "\u001b[31mNameError\u001b[39m                                 Traceback (most recent call last)",
      "\u001b[36mCell\u001b[39m\u001b[36m \u001b[39m\u001b[32mIn[23]\u001b[39m\u001b[32m, line 11\u001b[39m\n\u001b[32m      6\u001b[39m \u001b[38;5;66;03m# df[nome_da_coluna_para_alterar] = df[nome_da_coluna_para_alterar].str.upper()\u001b[39;00m\n\u001b[32m      7\u001b[39m \u001b[38;5;66;03m# df.to_csv(caminho_arquivo, index=False, sep=';')\u001b[39;00m\n\u001b[32m      8\u001b[39m \n\u001b[32m      9\u001b[39m \u001b[38;5;66;03m# Trocar valores das tuplas definidas na variável 'substituicoes' acima\u001b[39;00m\n\u001b[32m     10\u001b[39m \u001b[38;5;28;01mfor\u001b[39;00m valor_antigo, valor_novo \u001b[38;5;129;01min\u001b[39;00m substituicoes:\n\u001b[32m---> \u001b[39m\u001b[32m11\u001b[39m     df[nome_da_coluna_para_alterar] = df[\u001b[43mnome_da_coluna_para_alterar\u001b[49m].replace(valor_antigo, valor_novo)\n\u001b[32m     13\u001b[39m \u001b[38;5;66;03m#Salvar as alterações do arquivo\u001b[39;00m\n\u001b[32m     14\u001b[39m df.to_csv(caminho_arquivo, index=\u001b[38;5;28;01mFalse\u001b[39;00m, sep=\u001b[33m'\u001b[39m\u001b[33m;\u001b[39m\u001b[33m'\u001b[39m)\n",
      "\u001b[31mNameError\u001b[39m: name 'nome_da_coluna_para_alterar' is not defined"
     ]
    }
   ],
   "source": [
    "# Criar lista de tuplas para substituir valores\n",
    "substituicoes = [\n",
    "    ('Nissan', 'NISSAN')\n",
    "]\n",
    "df = pd.read_csv(caminho_arquivo, delimiter=';')\n",
    "# df[nome_da_coluna_para_alterar] = df[nome_da_coluna_para_alterar].str.upper()\n",
    "# df.to_csv(caminho_arquivo, index=False, sep=';')\n",
    "\n",
    "# Trocar valores das tuplas definidas na variável 'substituicoes' acima\n",
    "for valor_antigo, valor_novo in substituicoes:\n",
    "    df[nome_da_coluna_para_alterar] = df[nome_da_coluna_para_alterar].replace(valor_antigo, valor_novo)\n",
    "\n",
    "#Salvar as alterações do arquivo\n",
    "df.to_csv(caminho_arquivo, index=False, sep=';')"
   ]
  },
  {
   "cell_type": "code",
   "execution_count": 24,
   "metadata": {},
   "outputs": [
    {
     "name": "stdout",
     "output_type": "stream",
     "text": [
      "Ocorreu um erro: name 'nome_da_coluna_para_alterar' is not defined\n"
     ]
    }
   ],
   "source": [
    "try:\n",
    "    # Carregar o arquivo CSV para um DataFrame do pandas\n",
    "    df = pd.read_csv(caminho_arquivo, delimiter=';')\n",
    "\n",
    "    # Verificar se a coluna existe\n",
    "    if nome_da_coluna_para_alterar in df.columns:\n",
    "        # Contar quantas ocorrências do valor antigo existem antes da alteração\n",
    "        contagem_antes = df[nome_da_coluna_para_alterar].astype(str).str.count(valor_antigo).sum()\n",
    "\n",
    "        # Realizar a substituição na coluna especificada\n",
    "        # O inplace=True modifica o DataFrame diretamente\n",
    "        df[nome_da_coluna_para_alterar] = df[nome_da_coluna_para_alterar].replace(valor_antigo, novo_valor)\n",
    "\n",
    "        # Contar quantas ocorrências do novo valor existem depois da alteração\n",
    "        contagem_depois = df[nome_da_coluna_para_alterar].astype(str).str.count(novo_valor).sum()\n",
    "\n",
    "        print(f\"Substituição concluída na coluna '{nome_da_coluna_para_alterar}'.\")\n",
    "        print(f\"Ocorrências de '{valor_antigo}' encontradas e substituídas: {contagem_antes}\")\n",
    "        print(f\"Ocorrências de '{novo_valor}' após a substituição: {contagem_depois}\")\n",
    "\n",
    "        # --- Opção para visualizar as primeiras linhas do DataFrame modificado ---\n",
    "        print(\"\\nPrimeiras 5 linhas do DataFrame modificado:\")\n",
    "        print(df.head().to_markdown(index=False)) # Use to_markdown() para melhor visualização em notebooks\n",
    "\n",
    "        # --- Opção para salvar o DataFrame modificado em um novo arquivo CSV ---\n",
    "        # Para salvar, remova o comentário da linha abaixo\n",
    "        df.to_csv(caminho_arquivo, index=False, sep=';')\n",
    "        print(f\"\\nDataFrame modificado salvo em '{caminho_arquivo}'\")\n",
    "\n",
    "    else:\n",
    "        print(f\"Erro: A coluna '{nome_da_coluna_para_alterar}' não foi encontrada no arquivo.\")\n",
    "        print(\"Colunas disponíveis:\")\n",
    "        print(df.columns.tolist())\n",
    "\n",
    "except FileNotFoundError:\n",
    "    print(f\"Erro: O arquivo '{caminho_arquivo}' não foi encontrado.\")\n",
    "except Exception as e:\n",
    "    print(f\"Ocorreu um erro: {e}\")"
   ]
  },
  {
   "cell_type": "code",
   "execution_count": 37,
   "metadata": {},
   "outputs": [],
   "source": [
    "# Nome da coluna que você quer verificar\n",
    "# !! ATENÇÃO !! Substitua 'Nome_da_Coluna' pelo nome real da coluna que você deseja inspecionar\n",
    "# nome_da_coluna = 'Poluentes(NMOG+NOx [mg/km])'\n",
    "# nome_da_coluna = 'Poluentes(NMOG+NOx [mg/km])'\n",
    "# nome_da_coluna = 'Poluentes(CO [mg/km])'\n",
    "# nome_da_coluna = 'Poluentes(CHO [mg/km])'\n",
    "# nome_da_coluna = 'Redução Relativa ao Limite'\n",
    "# nome_da_coluna = 'Gás Efeito Estufa (Etanol [CO2 fóssil] [g/km])'\n",
    "# nome_da_coluna = 'Gás Efeito Estufa (Gasolina ou Diesel [CO2 fóssil] [g/km])'\n",
    "# nome_da_coluna = 'Gás Efeito Estufa (VEHP [CO2 fóssil] [g/km])'\n",
    "# nome_da_coluna = 'Km - (Etanol[Cidade][km/l])'\n",
    "# nome_da_coluna = 'Km - (Etanol[Estrada][km/l])'\n",
    "# nome_da_coluna = 'Km - (Gasolina ou Diesel[Cidade][km/l])'\n",
    "# nome_da_coluna = 'Km - (Gasolina ou Diesel[Estrada][km/l])'\n",
    "# nome_da_coluna = 'Km - (Elétrico quando VE ou VEHP [Cidade][km/le])'\n",
    "# nome_da_coluna = 'Km - (Elétrico quando VE ou VEHP [Estrada][km/le])'\n",
    "# nome_da_coluna = 'Consumo Energético'\n",
    "# nome_da_coluna = 'Autonomia modo Elétrico'\n",
    "# nome_da_coluna = 'Classificação PBE (Comparação Relativa)'\n",
    "# nome_da_coluna = 'Classificação PBE (Absoluta na Categoria)'\n",
    "nome_da_coluna = 'Selo CONPET de Eficiência Energética'"
   ]
  },
  {
   "cell_type": "code",
   "execution_count": 38,
   "metadata": {},
   "outputs": [
    {
     "name": "stdout",
     "output_type": "stream",
     "text": [
      "Opções na coluna 'Classificação PBE (Absoluta na Categoria)':\n",
      "A\n",
      "B\n",
      "C\n",
      "D\n",
      "E\n",
      "nan\n"
     ]
    }
   ],
   "source": [
    "try:\n",
    "    # Carregar o arquivo CSV para um DataFrame do pandas\n",
    "    df = pd.read_csv(caminho_arquivo, delimiter=';')\n",
    "\n",
    "    # Verificar se a coluna existe no DataFrame\n",
    "    if nome_da_coluna in df.columns:\n",
    "        # Obter os valores únicos da coluna\n",
    "        valores_unicos = df[nome_da_coluna].unique()\n",
    "\n",
    "        # Exibir os valores únicos\n",
    "        print(f\"Opções na coluna '{nome_da_coluna}':\")\n",
    "        for valor in valores_unicos:\n",
    "            print(valor)\n",
    "    else:\n",
    "        print(f\"Erro: A coluna '{nome_da_coluna}' não foi encontrada no arquivo.\")\n",
    "        print(\"Colunas disponíveis:\")\n",
    "        print(df.columns.tolist())\n",
    "\n",
    "except FileNotFoundError:\n",
    "    print(f\"Erro: O arquivo '{caminho_arquivo}' não foi encontrado.\")\n",
    "except Exception as e:\n",
    "    print(f\"Ocorreu um erro ao ler o arquivo: {e}\")"
   ]
  },
  {
   "cell_type": "code",
   "execution_count": null,
   "metadata": {},
   "outputs": [],
   "source": []
  }
 ],
 "metadata": {
  "kernelspec": {
   "display_name": "Python 3",
   "language": "python",
   "name": "python3"
  },
  "language_info": {
   "codemirror_mode": {
    "name": "ipython",
    "version": 3
   },
   "file_extension": ".py",
   "mimetype": "text/x-python",
   "name": "python",
   "nbconvert_exporter": "python",
   "pygments_lexer": "ipython3",
   "version": "3.13.3"
  }
 },
 "nbformat": 4,
 "nbformat_minor": 2
}
